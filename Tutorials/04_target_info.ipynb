{
 "cells": [
  {
   "metadata": {},
   "cell_type": "markdown",
   "source": [
    "# Get Target Info\n",
    "\n",
    "The following shows how to pull target information. The methods pull information from the [Guide to Pharmacology (GtoP)](https://www.guidetopharmacology.org) and [Uniprot API](https://www.uniprot.org). The information is accessed by inputting a target protein Uniprot ID. The associated data will then be mapped to the information from the GtoP."
   ],
   "id": "b0ca77c7d5464daf"
  },
  {
   "metadata": {},
   "cell_type": "markdown",
   "source": "## Import Statement",
   "id": "ef79349791583be3"
  },
  {
   "cell_type": "code",
   "id": "initial_id",
   "metadata": {
    "collapsed": true,
    "ExecuteTime": {
     "end_time": "2025-03-04T03:45:46.196748Z",
     "start_time": "2025-03-04T03:45:45.421705Z"
    }
   },
   "source": "from drug_nme import Target",
   "outputs": [],
   "execution_count": 1
  },
  {
   "metadata": {},
   "cell_type": "markdown",
   "source": [
    "### Get Gene ID\n",
    "\n",
    "A method is available that provide a Gene ID for a given Uniprot ID query. The Uniprot ID query can be given as a string or a list of strings and given when calling the **Target()** class or the **get_gene_id()** method.\n",
    "\n",
    "In this example, the Uniprot ID for 5-hydroxytryptamine receptor 2A ([P28223](https://www.uniprot.org/uniprotkb/P28223/entry)) will be given to the **get_gene_id**."
   ],
   "id": "6839814b550b13e5"
  },
  {
   "metadata": {
    "ExecuteTime": {
     "end_time": "2025-03-04T03:45:47.746816Z",
     "start_time": "2025-03-04T03:45:46.202111Z"
    }
   },
   "cell_type": "code",
   "source": [
    "target = Target()\n",
    "target.get_gene_id('P28223')"
   ],
   "id": "294174f349cf1db1",
   "outputs": [
    {
     "data": {
      "text/plain": [
       "'HTR2A'"
      ]
     },
     "execution_count": 2,
     "metadata": {},
     "output_type": "execute_result"
    }
   ],
   "execution_count": 2
  },
  {
   "metadata": {},
   "cell_type": "markdown",
   "source": [
    "## Get Protein Data\n",
    "A simple method to pull protein data can be done using the **get_data()** method. This will produce a DataFrame containing the protein target Gene ID, and information from the GtoP API, which includes the protein type, its GtoP target_id, and IDs for associated databases.\n",
    "\n",
    "In this example, the Uniprot ID for 5-hydroxytryptamine receptor 2A ([P28223](https://www.uniprot.org/uniprotkb/P28223/entry)) and Polyunsaturated fatty acid 5-lipoxygenase ([P09917](https://www.uniprot.org/uniprotkb/P09917/entry)) will be used. It is acceptable to give the list/str query in either the class instance or with the **get_data()** method. The example below shows the query with the instance of the **Target()** class."
   ],
   "id": "3eec53e906162be6"
  },
  {
   "metadata": {
    "ExecuteTime": {
     "end_time": "2025-03-04T03:45:56.395759Z",
     "start_time": "2025-03-04T03:45:47.848208Z"
    }
   },
   "cell_type": "code",
   "source": [
    "target = Target(['P28223', 'P09917'])\n",
    "target.get_data()"
   ],
   "id": "2203e9b79eab2ea2",
   "outputs": [
    {
     "name": "stderr",
     "output_type": "stream",
     "text": [
      "Getting Target Data: 100%|██████████| 2/2 [00:08<00:00,  4.26s/it]\n"
     ]
    },
    {
     "data": {
      "text/plain": [
       "          accession          source_database  target_id protein_type  \\\n",
       "0         CHEMBL224            ChEMBL Target          6         GPCR   \n",
       "1            P28223          DrugBank Target          6         GPCR   \n",
       "2   ENSG00000102468             Ensembl Gene          6         GPCR   \n",
       "3              3356              Entrez Gene          6         GPCR   \n",
       "4       5ht2a_human                   GPCRdb          6         GPCR   \n",
       "5            182135                     OMIM          6         GPCR   \n",
       "6         260099679               Protein GI          6         GPCR   \n",
       "7         NM_000621        RefSeq Nucleotide          6         GPCR   \n",
       "8         NP_000612           RefSeq Protein          6         GPCR   \n",
       "9            P28223                UniProtKB          6         GPCR   \n",
       "10      5HT2A_HUMAN  UniProtKB ID/Entry name          6         GPCR   \n",
       "11        CHEMBL215            ChEMBL Target       1385       Enzyme   \n",
       "12           P09917          DrugBank Target       1385       Enzyme   \n",
       "13  ENSG00000012779             Ensembl Gene       1385       Enzyme   \n",
       "14              240              Entrez Gene       1385       Enzyme   \n",
       "15           152390                     OMIM       1385       Enzyme   \n",
       "16        371877598               Protein GI       1385       Enzyme   \n",
       "17           P09917                UniProtKB       1385       Enzyme   \n",
       "\n",
       "   protein_target  \n",
       "0           HTR2A  \n",
       "1           HTR2A  \n",
       "2           HTR2A  \n",
       "3           HTR2A  \n",
       "4           HTR2A  \n",
       "5           HTR2A  \n",
       "6           HTR2A  \n",
       "7           HTR2A  \n",
       "8           HTR2A  \n",
       "9           HTR2A  \n",
       "10          HTR2A  \n",
       "11          ALOX5  \n",
       "12          ALOX5  \n",
       "13          ALOX5  \n",
       "14          ALOX5  \n",
       "15          ALOX5  \n",
       "16          ALOX5  \n",
       "17          ALOX5  "
      ],
      "text/html": [
       "<div>\n",
       "<style scoped>\n",
       "    .dataframe tbody tr th:only-of-type {\n",
       "        vertical-align: middle;\n",
       "    }\n",
       "\n",
       "    .dataframe tbody tr th {\n",
       "        vertical-align: top;\n",
       "    }\n",
       "\n",
       "    .dataframe thead th {\n",
       "        text-align: right;\n",
       "    }\n",
       "</style>\n",
       "<table border=\"1\" class=\"dataframe\">\n",
       "  <thead>\n",
       "    <tr style=\"text-align: right;\">\n",
       "      <th></th>\n",
       "      <th>accession</th>\n",
       "      <th>source_database</th>\n",
       "      <th>target_id</th>\n",
       "      <th>protein_type</th>\n",
       "      <th>protein_target</th>\n",
       "    </tr>\n",
       "  </thead>\n",
       "  <tbody>\n",
       "    <tr>\n",
       "      <th>0</th>\n",
       "      <td>CHEMBL224</td>\n",
       "      <td>ChEMBL Target</td>\n",
       "      <td>6</td>\n",
       "      <td>GPCR</td>\n",
       "      <td>HTR2A</td>\n",
       "    </tr>\n",
       "    <tr>\n",
       "      <th>1</th>\n",
       "      <td>P28223</td>\n",
       "      <td>DrugBank Target</td>\n",
       "      <td>6</td>\n",
       "      <td>GPCR</td>\n",
       "      <td>HTR2A</td>\n",
       "    </tr>\n",
       "    <tr>\n",
       "      <th>2</th>\n",
       "      <td>ENSG00000102468</td>\n",
       "      <td>Ensembl Gene</td>\n",
       "      <td>6</td>\n",
       "      <td>GPCR</td>\n",
       "      <td>HTR2A</td>\n",
       "    </tr>\n",
       "    <tr>\n",
       "      <th>3</th>\n",
       "      <td>3356</td>\n",
       "      <td>Entrez Gene</td>\n",
       "      <td>6</td>\n",
       "      <td>GPCR</td>\n",
       "      <td>HTR2A</td>\n",
       "    </tr>\n",
       "    <tr>\n",
       "      <th>4</th>\n",
       "      <td>5ht2a_human</td>\n",
       "      <td>GPCRdb</td>\n",
       "      <td>6</td>\n",
       "      <td>GPCR</td>\n",
       "      <td>HTR2A</td>\n",
       "    </tr>\n",
       "    <tr>\n",
       "      <th>5</th>\n",
       "      <td>182135</td>\n",
       "      <td>OMIM</td>\n",
       "      <td>6</td>\n",
       "      <td>GPCR</td>\n",
       "      <td>HTR2A</td>\n",
       "    </tr>\n",
       "    <tr>\n",
       "      <th>6</th>\n",
       "      <td>260099679</td>\n",
       "      <td>Protein GI</td>\n",
       "      <td>6</td>\n",
       "      <td>GPCR</td>\n",
       "      <td>HTR2A</td>\n",
       "    </tr>\n",
       "    <tr>\n",
       "      <th>7</th>\n",
       "      <td>NM_000621</td>\n",
       "      <td>RefSeq Nucleotide</td>\n",
       "      <td>6</td>\n",
       "      <td>GPCR</td>\n",
       "      <td>HTR2A</td>\n",
       "    </tr>\n",
       "    <tr>\n",
       "      <th>8</th>\n",
       "      <td>NP_000612</td>\n",
       "      <td>RefSeq Protein</td>\n",
       "      <td>6</td>\n",
       "      <td>GPCR</td>\n",
       "      <td>HTR2A</td>\n",
       "    </tr>\n",
       "    <tr>\n",
       "      <th>9</th>\n",
       "      <td>P28223</td>\n",
       "      <td>UniProtKB</td>\n",
       "      <td>6</td>\n",
       "      <td>GPCR</td>\n",
       "      <td>HTR2A</td>\n",
       "    </tr>\n",
       "    <tr>\n",
       "      <th>10</th>\n",
       "      <td>5HT2A_HUMAN</td>\n",
       "      <td>UniProtKB ID/Entry name</td>\n",
       "      <td>6</td>\n",
       "      <td>GPCR</td>\n",
       "      <td>HTR2A</td>\n",
       "    </tr>\n",
       "    <tr>\n",
       "      <th>11</th>\n",
       "      <td>CHEMBL215</td>\n",
       "      <td>ChEMBL Target</td>\n",
       "      <td>1385</td>\n",
       "      <td>Enzyme</td>\n",
       "      <td>ALOX5</td>\n",
       "    </tr>\n",
       "    <tr>\n",
       "      <th>12</th>\n",
       "      <td>P09917</td>\n",
       "      <td>DrugBank Target</td>\n",
       "      <td>1385</td>\n",
       "      <td>Enzyme</td>\n",
       "      <td>ALOX5</td>\n",
       "    </tr>\n",
       "    <tr>\n",
       "      <th>13</th>\n",
       "      <td>ENSG00000012779</td>\n",
       "      <td>Ensembl Gene</td>\n",
       "      <td>1385</td>\n",
       "      <td>Enzyme</td>\n",
       "      <td>ALOX5</td>\n",
       "    </tr>\n",
       "    <tr>\n",
       "      <th>14</th>\n",
       "      <td>240</td>\n",
       "      <td>Entrez Gene</td>\n",
       "      <td>1385</td>\n",
       "      <td>Enzyme</td>\n",
       "      <td>ALOX5</td>\n",
       "    </tr>\n",
       "    <tr>\n",
       "      <th>15</th>\n",
       "      <td>152390</td>\n",
       "      <td>OMIM</td>\n",
       "      <td>1385</td>\n",
       "      <td>Enzyme</td>\n",
       "      <td>ALOX5</td>\n",
       "    </tr>\n",
       "    <tr>\n",
       "      <th>16</th>\n",
       "      <td>371877598</td>\n",
       "      <td>Protein GI</td>\n",
       "      <td>1385</td>\n",
       "      <td>Enzyme</td>\n",
       "      <td>ALOX5</td>\n",
       "    </tr>\n",
       "    <tr>\n",
       "      <th>17</th>\n",
       "      <td>P09917</td>\n",
       "      <td>UniProtKB</td>\n",
       "      <td>1385</td>\n",
       "      <td>Enzyme</td>\n",
       "      <td>ALOX5</td>\n",
       "    </tr>\n",
       "  </tbody>\n",
       "</table>\n",
       "</div>"
      ]
     },
     "execution_count": 3,
     "metadata": {},
     "output_type": "execute_result"
    }
   ],
   "execution_count": 3
  }
 ],
 "metadata": {
  "kernelspec": {
   "display_name": "Python 3",
   "language": "python",
   "name": "python3"
  },
  "language_info": {
   "codemirror_mode": {
    "name": "ipython",
    "version": 2
   },
   "file_extension": ".py",
   "mimetype": "text/x-python",
   "name": "python",
   "nbconvert_exporter": "python",
   "pygments_lexer": "ipython2",
   "version": "2.7.6"
  }
 },
 "nbformat": 4,
 "nbformat_minor": 5
}
