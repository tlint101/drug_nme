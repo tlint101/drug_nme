{
 "cells": [
  {
   "metadata": {},
   "cell_type": "markdown",
   "source": [
    "# CDER NME csv information\n",
    "\n",
    "Information is updated up to the last year. In this case, 2023. Link found on this page: https://www.fda.gov/drugs/drug-approvals-and-databases/compilation-cder-new-molecular-entity-nme-drug-and-new-biologic-approvals\n",
    "Attachment found here: https://www.fda.gov/media/177921/download?attachment\n",
    "\n",
    "current year can be found here:\n",
    "https://www.fda.gov/drugs/development-approval-process-drugs/novel-drug-approvals-fda\n",
    "\n",
    "Scrape from there as well as the archive. (from 2015 to 2024)"
   ]
  },
  {
   "metadata": {
    "ExecuteTime": {
     "end_time": "2024-07-23T02:21:06.374703Z",
     "start_time": "2024-07-23T02:21:06.289794Z"
    }
   },
   "cell_type": "code",
   "source": "from drug_nme import FDAScraper",
   "outputs": [],
   "execution_count": 1
  },
  {
   "metadata": {
    "ExecuteTime": {
     "end_time": "2024-07-23T02:21:06.750464Z",
     "start_time": "2024-07-23T02:21:06.375772Z"
    }
   },
   "cell_type": "code",
   "source": [
    "scrape = FDAScraper()\n",
    "\n",
    "links = scrape.get_pdf_links()"
   ],
   "outputs": [],
   "execution_count": 2
  },
  {
   "metadata": {
    "ExecuteTime": {
     "end_time": "2024-07-23T02:21:06.756051Z",
     "start_time": "2024-07-23T02:21:06.751415Z"
    }
   },
   "cell_type": "code",
   "source": "links",
   "outputs": [
    {
     "data": {
      "text/plain": [
       "{'2023': 'https://www.fda.gov/media/177083/download?attachment',\n",
       " '2022': 'https://www.fda.gov/media/165828/download?attachment',\n",
       " '2021': 'https://www.fda.gov/media/158152/download?attachment',\n",
       " '2020': 'https://www.fda.gov/media/147400/download?attachment',\n",
       " '2019': 'https://www.fda.gov/media/147414/download?attachment',\n",
       " '2018': 'https://www.fda.gov/media/124809/download?attachment',\n",
       " '2017': 'https://www.fda.gov/media/110746/download',\n",
       " '2016': 'https://www.fda.gov/media/102967/download',\n",
       " '2015': 'https://www.fda.gov/media/93424/download'}"
      ]
     },
     "execution_count": 3,
     "metadata": {},
     "output_type": "execute_result"
    }
   ],
   "execution_count": 3
  }
 ],
 "metadata": {
  "kernelspec": {
   "display_name": "Python 3 (ipykernel)",
   "language": "python",
   "name": "python3"
  },
  "language_info": {
   "codemirror_mode": {
    "name": "ipython",
    "version": 3
   },
   "file_extension": ".py",
   "mimetype": "text/x-python",
   "name": "python",
   "nbconvert_exporter": "python",
   "pygments_lexer": "ipython3",
   "version": "3.7.16"
  }
 },
 "nbformat": 4,
 "nbformat_minor": 4
}
