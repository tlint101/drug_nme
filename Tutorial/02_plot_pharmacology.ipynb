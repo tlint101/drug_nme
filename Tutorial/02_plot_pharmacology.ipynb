{
 "cells": [
  {
   "metadata": {},
   "cell_type": "markdown",
   "source": [
    "# Basic Plot Examples\n",
    "\n",
    "The drug_nme package comes equipped with basic plotting features. This includes the generation of bar, stacked bar, and donut plots. In order for the plot to be generated, the data sources will need to be preprocessed first. This can be done upon initialization of the Plot() class. \n",
    "\n",
    "**Note:** As of this writing, the Plot() class is primarily used for sources from Guide to Pharmacology. "
   ],
   "id": "9706600b0c8c0b12"
  },
  {
   "metadata": {},
   "cell_type": "markdown",
   "source": "#### Import modules",
   "id": "1421e2277dfa2f1b"
  },
  {
   "cell_type": "code",
   "id": "initial_id",
   "metadata": {
    "collapsed": true,
    "ExecuteTime": {
     "end_time": "2024-07-26T01:58:00.419358Z",
     "start_time": "2024-07-26T01:58:00.320770Z"
    }
   },
   "source": "from drug_nme import PharmacologyDataFetcher, Plot",
   "outputs": [],
   "execution_count": 1
  },
  {
   "metadata": {},
   "cell_type": "markdown",
   "source": [
    "#### Download Dataset\n",
    "\n",
    "For this example, plots will be generated from The Guide to Pharmacology. This source is convenient in that they include a column, named \"type\", for the drug class. However, the labels may differ from users specific study. The data must be relabeled accordingly. \n",
    "\n",
    "Currently, there is a *make_kinase_label()* method that will take the downloaded class and rename Kinase inhibitors from  \"Synthetic organic\" to \"Kinase\". \n",
    "\n",
    "If interested in other classes, please open an issue/question on the repository. "
   ],
   "id": "5250d29dcbe1600c"
  },
  {
   "metadata": {
    "ExecuteTime": {
     "end_time": "2024-07-26T01:58:25.990499Z",
     "start_time": "2024-07-26T01:58:00.420469Z"
    }
   },
   "cell_type": "code",
   "source": [
    "extract = PharmacologyDataFetcher()\n",
    "data = extract.get_data()\n",
    "\n",
    "data = extract.make_kinase_label()"
   ],
   "id": "4bd2349b95acfdd4",
   "outputs": [
    {
     "name": "stderr",
     "output_type": "stream",
     "text": [
      "Downloading Data From Guide To Pharmacology: 917KB [00:22, 40.97KB/s] \n"
     ]
    }
   ],
   "execution_count": 2
  },
  {
   "metadata": {
    "ExecuteTime": {
     "end_time": "2024-07-26T01:58:26.000325Z",
     "start_time": "2024-07-26T01:58:25.991607Z"
    }
   },
   "cell_type": "code",
   "source": [
    "# View downloaded and relabeled dataset\n",
    "df = data.copy()\n",
    "df"
   ],
   "id": "8dd8b06c4bb4a049",
   "outputs": [
    {
     "data": {
      "text/plain": [
       "      ligandId                                 name               type  \\\n",
       "0         2779             1,25-dihydroxyvitamin D3         Metabolite   \n",
       "1         1013                   17&beta;-estradiol         Metabolite   \n",
       "2         4108  5&alpha;-pregnan-3&alpha;-ol-20-one         Metabolite   \n",
       "3         4784                5-aminolevulinic acid         Metabolite   \n",
       "4         4789                       5-fluorouracil  Synthetic organic   \n",
       "...        ...                                  ...                ...   \n",
       "1986      3177                      zoledronic acid  Synthetic organic   \n",
       "1987        60                         zolmitriptan  Synthetic organic   \n",
       "1988      4348                             zolpidem  Synthetic organic   \n",
       "1989      7047                           zonisamide  Synthetic organic   \n",
       "1994     12858                           zuranolone  Synthetic organic   \n",
       "\n",
       "      approved  withdrawn  whoEssential  \\\n",
       "0         True      False         False   \n",
       "1         True      False         False   \n",
       "2         True      False         False   \n",
       "3         True      False         False   \n",
       "4         True      False          True   \n",
       "...        ...        ...           ...   \n",
       "1986      True      False          True   \n",
       "1987      True      False         False   \n",
       "1988      True      False         False   \n",
       "1989      True      False         False   \n",
       "1994      True      False         False   \n",
       "\n",
       "                             approvalSource    FDA_info   FDA  Year  \n",
       "0                                FDA (1978)  FDA (1978)  FDA   1978  \n",
       "1     FDA (1954, prior history unavailable)  FDA (1954)  FDA   1954  \n",
       "2                                FDA (2019)  FDA (2019)  FDA   2019  \n",
       "3                    FDA (1999)m EMA (2007)  FDA (1999)  FDA   1999  \n",
       "4                                FDA (1962)  FDA (1962)  FDA   1962  \n",
       "...                                     ...         ...   ...   ...  \n",
       "1986                     FDA and EMA (2001)  FDA (2001)  FDA   2001  \n",
       "1987                             FDA (1997)  FDA (1997)  FDA   1997  \n",
       "1988                             FDA (1992)  FDA (1992)  FDA   1992  \n",
       "1989                 FDA (2000), EMA (2005)  FDA (2000)  FDA   2000  \n",
       "1994                             FDA (2023)  FDA (2023)  FDA   2023  \n",
       "\n",
       "[1550 rows x 10 columns]"
      ],
      "text/html": [
       "<div>\n",
       "<style scoped>\n",
       "    .dataframe tbody tr th:only-of-type {\n",
       "        vertical-align: middle;\n",
       "    }\n",
       "\n",
       "    .dataframe tbody tr th {\n",
       "        vertical-align: top;\n",
       "    }\n",
       "\n",
       "    .dataframe thead th {\n",
       "        text-align: right;\n",
       "    }\n",
       "</style>\n",
       "<table border=\"1\" class=\"dataframe\">\n",
       "  <thead>\n",
       "    <tr style=\"text-align: right;\">\n",
       "      <th></th>\n",
       "      <th>ligandId</th>\n",
       "      <th>name</th>\n",
       "      <th>type</th>\n",
       "      <th>approved</th>\n",
       "      <th>withdrawn</th>\n",
       "      <th>whoEssential</th>\n",
       "      <th>approvalSource</th>\n",
       "      <th>FDA_info</th>\n",
       "      <th>FDA</th>\n",
       "      <th>Year</th>\n",
       "    </tr>\n",
       "  </thead>\n",
       "  <tbody>\n",
       "    <tr>\n",
       "      <th>0</th>\n",
       "      <td>2779</td>\n",
       "      <td>1,25-dihydroxyvitamin D3</td>\n",
       "      <td>Metabolite</td>\n",
       "      <td>True</td>\n",
       "      <td>False</td>\n",
       "      <td>False</td>\n",
       "      <td>FDA (1978)</td>\n",
       "      <td>FDA (1978)</td>\n",
       "      <td>FDA</td>\n",
       "      <td>1978</td>\n",
       "    </tr>\n",
       "    <tr>\n",
       "      <th>1</th>\n",
       "      <td>1013</td>\n",
       "      <td>17&amp;beta;-estradiol</td>\n",
       "      <td>Metabolite</td>\n",
       "      <td>True</td>\n",
       "      <td>False</td>\n",
       "      <td>False</td>\n",
       "      <td>FDA (1954, prior history unavailable)</td>\n",
       "      <td>FDA (1954)</td>\n",
       "      <td>FDA</td>\n",
       "      <td>1954</td>\n",
       "    </tr>\n",
       "    <tr>\n",
       "      <th>2</th>\n",
       "      <td>4108</td>\n",
       "      <td>5&amp;alpha;-pregnan-3&amp;alpha;-ol-20-one</td>\n",
       "      <td>Metabolite</td>\n",
       "      <td>True</td>\n",
       "      <td>False</td>\n",
       "      <td>False</td>\n",
       "      <td>FDA (2019)</td>\n",
       "      <td>FDA (2019)</td>\n",
       "      <td>FDA</td>\n",
       "      <td>2019</td>\n",
       "    </tr>\n",
       "    <tr>\n",
       "      <th>3</th>\n",
       "      <td>4784</td>\n",
       "      <td>5-aminolevulinic acid</td>\n",
       "      <td>Metabolite</td>\n",
       "      <td>True</td>\n",
       "      <td>False</td>\n",
       "      <td>False</td>\n",
       "      <td>FDA (1999)m EMA (2007)</td>\n",
       "      <td>FDA (1999)</td>\n",
       "      <td>FDA</td>\n",
       "      <td>1999</td>\n",
       "    </tr>\n",
       "    <tr>\n",
       "      <th>4</th>\n",
       "      <td>4789</td>\n",
       "      <td>5-fluorouracil</td>\n",
       "      <td>Synthetic organic</td>\n",
       "      <td>True</td>\n",
       "      <td>False</td>\n",
       "      <td>True</td>\n",
       "      <td>FDA (1962)</td>\n",
       "      <td>FDA (1962)</td>\n",
       "      <td>FDA</td>\n",
       "      <td>1962</td>\n",
       "    </tr>\n",
       "    <tr>\n",
       "      <th>...</th>\n",
       "      <td>...</td>\n",
       "      <td>...</td>\n",
       "      <td>...</td>\n",
       "      <td>...</td>\n",
       "      <td>...</td>\n",
       "      <td>...</td>\n",
       "      <td>...</td>\n",
       "      <td>...</td>\n",
       "      <td>...</td>\n",
       "      <td>...</td>\n",
       "    </tr>\n",
       "    <tr>\n",
       "      <th>1986</th>\n",
       "      <td>3177</td>\n",
       "      <td>zoledronic acid</td>\n",
       "      <td>Synthetic organic</td>\n",
       "      <td>True</td>\n",
       "      <td>False</td>\n",
       "      <td>True</td>\n",
       "      <td>FDA and EMA (2001)</td>\n",
       "      <td>FDA (2001)</td>\n",
       "      <td>FDA</td>\n",
       "      <td>2001</td>\n",
       "    </tr>\n",
       "    <tr>\n",
       "      <th>1987</th>\n",
       "      <td>60</td>\n",
       "      <td>zolmitriptan</td>\n",
       "      <td>Synthetic organic</td>\n",
       "      <td>True</td>\n",
       "      <td>False</td>\n",
       "      <td>False</td>\n",
       "      <td>FDA (1997)</td>\n",
       "      <td>FDA (1997)</td>\n",
       "      <td>FDA</td>\n",
       "      <td>1997</td>\n",
       "    </tr>\n",
       "    <tr>\n",
       "      <th>1988</th>\n",
       "      <td>4348</td>\n",
       "      <td>zolpidem</td>\n",
       "      <td>Synthetic organic</td>\n",
       "      <td>True</td>\n",
       "      <td>False</td>\n",
       "      <td>False</td>\n",
       "      <td>FDA (1992)</td>\n",
       "      <td>FDA (1992)</td>\n",
       "      <td>FDA</td>\n",
       "      <td>1992</td>\n",
       "    </tr>\n",
       "    <tr>\n",
       "      <th>1989</th>\n",
       "      <td>7047</td>\n",
       "      <td>zonisamide</td>\n",
       "      <td>Synthetic organic</td>\n",
       "      <td>True</td>\n",
       "      <td>False</td>\n",
       "      <td>False</td>\n",
       "      <td>FDA (2000), EMA (2005)</td>\n",
       "      <td>FDA (2000)</td>\n",
       "      <td>FDA</td>\n",
       "      <td>2000</td>\n",
       "    </tr>\n",
       "    <tr>\n",
       "      <th>1994</th>\n",
       "      <td>12858</td>\n",
       "      <td>zuranolone</td>\n",
       "      <td>Synthetic organic</td>\n",
       "      <td>True</td>\n",
       "      <td>False</td>\n",
       "      <td>False</td>\n",
       "      <td>FDA (2023)</td>\n",
       "      <td>FDA (2023)</td>\n",
       "      <td>FDA</td>\n",
       "      <td>2023</td>\n",
       "    </tr>\n",
       "  </tbody>\n",
       "</table>\n",
       "<p>1550 rows × 10 columns</p>\n",
       "</div>"
      ]
     },
     "execution_count": 3,
     "metadata": {},
     "output_type": "execute_result"
    }
   ],
   "execution_count": 3
  },
  {
   "metadata": {},
   "cell_type": "markdown",
   "source": [
    "#### Preprocess the Data\n",
    "\n",
    "Users can draw plots from all information. However, information from the FDA may stretch back to years (From the Guide to Pharmacology, drug records from U.S. FDA can go back to 1939). \n",
    "\n",
    "To continue with the Kinase label example, here we will \"slice\" the table from kinase. The first FDA approved kinase inhibitor was [imatinib in 2001](https://www.guidetopharmacology.org/GRAC/LigandDisplayForward?tab=clinical&ligandId=5687). As such, the table will extract all FDA approved drugs from >= 2001.   "
   ],
   "id": "7e684bbfd1fce75e"
  },
  {
   "metadata": {
    "ExecuteTime": {
     "end_time": "2024-07-26T01:58:26.007531Z",
     "start_time": "2024-07-26T01:58:26.001971Z"
    }
   },
   "cell_type": "code",
   "source": [
    "df = df[df['Year'] >= 2001]\n",
    "df"
   ],
   "id": "160fa067cb5c9f90",
   "outputs": [
    {
     "data": {
      "text/plain": [
       "      ligandId                                 name               type  \\\n",
       "2         4108  5&alpha;-pregnan-3&alpha;-ol-20-one         Metabolite   \n",
       "7         8299                        abaloparatide            Peptide   \n",
       "8         1188                             abarelix            Peptide   \n",
       "9         6891                            abatacept            Peptide   \n",
       "11        7382                          abemaciclib             Kinase   \n",
       "...        ...                                  ...                ...   \n",
       "1978      2536                           ziconotide            Peptide   \n",
       "1981     10404                           zilucoplan            Peptide   \n",
       "1983        59                          ziprasidone  Synthetic organic   \n",
       "1986      3177                      zoledronic acid  Synthetic organic   \n",
       "1994     12858                           zuranolone  Synthetic organic   \n",
       "\n",
       "      approved  withdrawn  whoEssential          approvalSource    FDA_info  \\\n",
       "2         True      False         False              FDA (2019)  FDA (2019)   \n",
       "7         True      False         False              FDA (2017)  FDA (2017)   \n",
       "8         True      False         False              FDA (2003)  FDA (2003)   \n",
       "9         True      False         False  FDA (2005), EMA (2005)  FDA (2005)   \n",
       "11        True      False         False  FDA (2017), EMA (2018)  FDA (2017)   \n",
       "...        ...        ...           ...                     ...         ...   \n",
       "1978      True      False         False  FDA (2004), EMA (2005)  FDA (2004)   \n",
       "1981      True      False         False        FDA & EMA (2023)  FDA (2023)   \n",
       "1983      True      False         False              FDA (2001)  FDA (2001)   \n",
       "1986      True      False          True      FDA and EMA (2001)  FDA (2001)   \n",
       "1994      True      False         False              FDA (2023)  FDA (2023)   \n",
       "\n",
       "       FDA  Year  \n",
       "2     FDA   2019  \n",
       "7     FDA   2017  \n",
       "8     FDA   2003  \n",
       "9     FDA   2005  \n",
       "11    FDA   2017  \n",
       "...    ...   ...  \n",
       "1978  FDA   2004  \n",
       "1981  FDA   2023  \n",
       "1983  FDA   2001  \n",
       "1986  FDA   2001  \n",
       "1994  FDA   2023  \n",
       "\n",
       "[711 rows x 10 columns]"
      ],
      "text/html": [
       "<div>\n",
       "<style scoped>\n",
       "    .dataframe tbody tr th:only-of-type {\n",
       "        vertical-align: middle;\n",
       "    }\n",
       "\n",
       "    .dataframe tbody tr th {\n",
       "        vertical-align: top;\n",
       "    }\n",
       "\n",
       "    .dataframe thead th {\n",
       "        text-align: right;\n",
       "    }\n",
       "</style>\n",
       "<table border=\"1\" class=\"dataframe\">\n",
       "  <thead>\n",
       "    <tr style=\"text-align: right;\">\n",
       "      <th></th>\n",
       "      <th>ligandId</th>\n",
       "      <th>name</th>\n",
       "      <th>type</th>\n",
       "      <th>approved</th>\n",
       "      <th>withdrawn</th>\n",
       "      <th>whoEssential</th>\n",
       "      <th>approvalSource</th>\n",
       "      <th>FDA_info</th>\n",
       "      <th>FDA</th>\n",
       "      <th>Year</th>\n",
       "    </tr>\n",
       "  </thead>\n",
       "  <tbody>\n",
       "    <tr>\n",
       "      <th>2</th>\n",
       "      <td>4108</td>\n",
       "      <td>5&amp;alpha;-pregnan-3&amp;alpha;-ol-20-one</td>\n",
       "      <td>Metabolite</td>\n",
       "      <td>True</td>\n",
       "      <td>False</td>\n",
       "      <td>False</td>\n",
       "      <td>FDA (2019)</td>\n",
       "      <td>FDA (2019)</td>\n",
       "      <td>FDA</td>\n",
       "      <td>2019</td>\n",
       "    </tr>\n",
       "    <tr>\n",
       "      <th>7</th>\n",
       "      <td>8299</td>\n",
       "      <td>abaloparatide</td>\n",
       "      <td>Peptide</td>\n",
       "      <td>True</td>\n",
       "      <td>False</td>\n",
       "      <td>False</td>\n",
       "      <td>FDA (2017)</td>\n",
       "      <td>FDA (2017)</td>\n",
       "      <td>FDA</td>\n",
       "      <td>2017</td>\n",
       "    </tr>\n",
       "    <tr>\n",
       "      <th>8</th>\n",
       "      <td>1188</td>\n",
       "      <td>abarelix</td>\n",
       "      <td>Peptide</td>\n",
       "      <td>True</td>\n",
       "      <td>False</td>\n",
       "      <td>False</td>\n",
       "      <td>FDA (2003)</td>\n",
       "      <td>FDA (2003)</td>\n",
       "      <td>FDA</td>\n",
       "      <td>2003</td>\n",
       "    </tr>\n",
       "    <tr>\n",
       "      <th>9</th>\n",
       "      <td>6891</td>\n",
       "      <td>abatacept</td>\n",
       "      <td>Peptide</td>\n",
       "      <td>True</td>\n",
       "      <td>False</td>\n",
       "      <td>False</td>\n",
       "      <td>FDA (2005), EMA (2005)</td>\n",
       "      <td>FDA (2005)</td>\n",
       "      <td>FDA</td>\n",
       "      <td>2005</td>\n",
       "    </tr>\n",
       "    <tr>\n",
       "      <th>11</th>\n",
       "      <td>7382</td>\n",
       "      <td>abemaciclib</td>\n",
       "      <td>Kinase</td>\n",
       "      <td>True</td>\n",
       "      <td>False</td>\n",
       "      <td>False</td>\n",
       "      <td>FDA (2017), EMA (2018)</td>\n",
       "      <td>FDA (2017)</td>\n",
       "      <td>FDA</td>\n",
       "      <td>2017</td>\n",
       "    </tr>\n",
       "    <tr>\n",
       "      <th>...</th>\n",
       "      <td>...</td>\n",
       "      <td>...</td>\n",
       "      <td>...</td>\n",
       "      <td>...</td>\n",
       "      <td>...</td>\n",
       "      <td>...</td>\n",
       "      <td>...</td>\n",
       "      <td>...</td>\n",
       "      <td>...</td>\n",
       "      <td>...</td>\n",
       "    </tr>\n",
       "    <tr>\n",
       "      <th>1978</th>\n",
       "      <td>2536</td>\n",
       "      <td>ziconotide</td>\n",
       "      <td>Peptide</td>\n",
       "      <td>True</td>\n",
       "      <td>False</td>\n",
       "      <td>False</td>\n",
       "      <td>FDA (2004), EMA (2005)</td>\n",
       "      <td>FDA (2004)</td>\n",
       "      <td>FDA</td>\n",
       "      <td>2004</td>\n",
       "    </tr>\n",
       "    <tr>\n",
       "      <th>1981</th>\n",
       "      <td>10404</td>\n",
       "      <td>zilucoplan</td>\n",
       "      <td>Peptide</td>\n",
       "      <td>True</td>\n",
       "      <td>False</td>\n",
       "      <td>False</td>\n",
       "      <td>FDA &amp; EMA (2023)</td>\n",
       "      <td>FDA (2023)</td>\n",
       "      <td>FDA</td>\n",
       "      <td>2023</td>\n",
       "    </tr>\n",
       "    <tr>\n",
       "      <th>1983</th>\n",
       "      <td>59</td>\n",
       "      <td>ziprasidone</td>\n",
       "      <td>Synthetic organic</td>\n",
       "      <td>True</td>\n",
       "      <td>False</td>\n",
       "      <td>False</td>\n",
       "      <td>FDA (2001)</td>\n",
       "      <td>FDA (2001)</td>\n",
       "      <td>FDA</td>\n",
       "      <td>2001</td>\n",
       "    </tr>\n",
       "    <tr>\n",
       "      <th>1986</th>\n",
       "      <td>3177</td>\n",
       "      <td>zoledronic acid</td>\n",
       "      <td>Synthetic organic</td>\n",
       "      <td>True</td>\n",
       "      <td>False</td>\n",
       "      <td>True</td>\n",
       "      <td>FDA and EMA (2001)</td>\n",
       "      <td>FDA (2001)</td>\n",
       "      <td>FDA</td>\n",
       "      <td>2001</td>\n",
       "    </tr>\n",
       "    <tr>\n",
       "      <th>1994</th>\n",
       "      <td>12858</td>\n",
       "      <td>zuranolone</td>\n",
       "      <td>Synthetic organic</td>\n",
       "      <td>True</td>\n",
       "      <td>False</td>\n",
       "      <td>False</td>\n",
       "      <td>FDA (2023)</td>\n",
       "      <td>FDA (2023)</td>\n",
       "      <td>FDA</td>\n",
       "      <td>2023</td>\n",
       "    </tr>\n",
       "  </tbody>\n",
       "</table>\n",
       "<p>711 rows × 10 columns</p>\n",
       "</div>"
      ]
     },
     "execution_count": 4,
     "metadata": {},
     "output_type": "execute_result"
    }
   ],
   "execution_count": 4
  },
  {
   "metadata": {},
   "cell_type": "markdown",
   "source": [
    "Next, the information can be processed above depending on users interests from the table. \n",
    "\n",
    "An easy way to do it is by giving the parameters upon initialization of the Plot() class. This is optional. \n",
    "\n",
    "Here the table is organized by type and year, producing a table with three columns. Importantly, the Count column will be used to generate the plot. "
   ],
   "id": "2fe0c8fd562c4274"
  },
  {
   "metadata": {
    "ExecuteTime": {
     "end_time": "2024-07-26T01:58:39.563296Z",
     "start_time": "2024-07-26T01:58:39.558003Z"
    }
   },
   "cell_type": "code",
   "source": [
    "plot_data = Plot(df, sort_col=['type', 'Year'])\n",
    "plot_data.show(5)"
   ],
   "id": "7ec8591b1b85abf7",
   "outputs": [
    {
     "data": {
      "text/plain": [
       "       type  Year  Count\n",
       "0  Antibody  2001      1\n",
       "1  Antibody  2002      2\n",
       "2  Antibody  2003      3\n",
       "3  Antibody  2004      3\n",
       "4  Antibody  2006      2"
      ],
      "text/html": [
       "<div>\n",
       "<style scoped>\n",
       "    .dataframe tbody tr th:only-of-type {\n",
       "        vertical-align: middle;\n",
       "    }\n",
       "\n",
       "    .dataframe tbody tr th {\n",
       "        vertical-align: top;\n",
       "    }\n",
       "\n",
       "    .dataframe thead th {\n",
       "        text-align: right;\n",
       "    }\n",
       "</style>\n",
       "<table border=\"1\" class=\"dataframe\">\n",
       "  <thead>\n",
       "    <tr style=\"text-align: right;\">\n",
       "      <th></th>\n",
       "      <th>type</th>\n",
       "      <th>Year</th>\n",
       "      <th>Count</th>\n",
       "    </tr>\n",
       "  </thead>\n",
       "  <tbody>\n",
       "    <tr>\n",
       "      <th>0</th>\n",
       "      <td>Antibody</td>\n",
       "      <td>2001</td>\n",
       "      <td>1</td>\n",
       "    </tr>\n",
       "    <tr>\n",
       "      <th>1</th>\n",
       "      <td>Antibody</td>\n",
       "      <td>2002</td>\n",
       "      <td>2</td>\n",
       "    </tr>\n",
       "    <tr>\n",
       "      <th>2</th>\n",
       "      <td>Antibody</td>\n",
       "      <td>2003</td>\n",
       "      <td>3</td>\n",
       "    </tr>\n",
       "    <tr>\n",
       "      <th>3</th>\n",
       "      <td>Antibody</td>\n",
       "      <td>2004</td>\n",
       "      <td>3</td>\n",
       "    </tr>\n",
       "    <tr>\n",
       "      <th>4</th>\n",
       "      <td>Antibody</td>\n",
       "      <td>2006</td>\n",
       "      <td>2</td>\n",
       "    </tr>\n",
       "  </tbody>\n",
       "</table>\n",
       "</div>"
      ]
     },
     "execution_count": 11,
     "metadata": {},
     "output_type": "execute_result"
    }
   ],
   "execution_count": 11
  },
  {
   "metadata": {
    "ExecuteTime": {
     "end_time": "2024-07-26T01:58:26.285040Z",
     "start_time": "2024-07-26T01:58:26.013263Z"
    }
   },
   "cell_type": "code",
   "source": [
    "title = 'FDA Approved Inhibitors from Guide to Pharmacology'\n",
    "plot_data.bar(figsize=(15,6), legend_loc='out right center', title=title)"
   ],
   "id": "e12b9ebeae01b2b8",
   "outputs": [
    {
     "data": {
      "text/plain": [
       "<Axes: title={'center': 'FDA Approved Inhibitors from Guide to Pharmacology'}, xlabel='Year', ylabel='Count'>"
      ]
     },
     "execution_count": 6,
     "metadata": {},
     "output_type": "execute_result"
    },
    {
     "data": {
      "text/plain": [
       "<Figure size 1500x600 with 1 Axes>"
      ],
      "image/png": "[encoded data removed]"
     },
     "metadata": {},
     "output_type": "display_data"
    }
   ],
   "execution_count": 6
  },
  {
   "metadata": {
    "ExecuteTime": {
     "end_time": "2024-07-26T01:59:13.319522Z",
     "start_time": "2024-07-26T01:59:13.053184Z"
    }
   },
   "cell_type": "code",
   "source": [
    "title = 'FDA Approved Inhibitors from Guide to Pharmacology'\n",
    "plot_data.stacked(legend_loc='out right upper', color_palette='GnBu', title=title)\n",
    "# savepath='/Users/tonyelin/Downloads/test.png'"
   ],
   "id": "2f21536b24b9a621",
   "outputs": [
    {
     "data": {
      "text/plain": [
       "<Axes: title={'center': 'FDA Approved Inhibitors from Guide to Pharmacology'}, xlabel='Year', ylabel='Count'>"
      ]
     },
     "execution_count": 13,
     "metadata": {},
     "output_type": "execute_result"
    },
    {
     "data": {
      "text/plain": [
       "<Figure size 1000x500 with 1 Axes>"
      ],
      "image/png": "[encoded data removed]"
     },
     "metadata": {},
     "output_type": "display_data"
    }
   ],
   "execution_count": 13
  },
  {
   "metadata": {},
   "cell_type": "markdown",
   "source": "Access the attribute from the Plot() class. \n",
   "id": "92afad969fd69d3b"
  },
  {
   "metadata": {
    "ExecuteTime": {
     "end_time": "2024-07-26T01:58:26.758439Z",
     "start_time": "2024-07-26T01:58:26.754494Z"
    }
   },
   "cell_type": "code",
   "source": [
    "year_data = plot_data.df\n",
    "year = year_data[year_data['Year'] == 2009].reset_index(drop=True)\n",
    "year"
   ],
   "id": "2fb74a0e525ef2cb",
   "outputs": [
    {
     "data": {
      "text/plain": [
       "                type  Year  Count\n",
       "0           Antibody  2009      4\n",
       "1             Kinase  2009      2\n",
       "2    Natural product  2009      4\n",
       "3            Peptide  2009      2\n",
       "4  Synthetic organic  2009     20"
      ],
      "text/html": [
       "<div>\n",
       "<style scoped>\n",
       "    .dataframe tbody tr th:only-of-type {\n",
       "        vertical-align: middle;\n",
       "    }\n",
       "\n",
       "    .dataframe tbody tr th {\n",
       "        vertical-align: top;\n",
       "    }\n",
       "\n",
       "    .dataframe thead th {\n",
       "        text-align: right;\n",
       "    }\n",
       "</style>\n",
       "<table border=\"1\" class=\"dataframe\">\n",
       "  <thead>\n",
       "    <tr style=\"text-align: right;\">\n",
       "      <th></th>\n",
       "      <th>type</th>\n",
       "      <th>Year</th>\n",
       "      <th>Count</th>\n",
       "    </tr>\n",
       "  </thead>\n",
       "  <tbody>\n",
       "    <tr>\n",
       "      <th>0</th>\n",
       "      <td>Antibody</td>\n",
       "      <td>2009</td>\n",
       "      <td>4</td>\n",
       "    </tr>\n",
       "    <tr>\n",
       "      <th>1</th>\n",
       "      <td>Kinase</td>\n",
       "      <td>2009</td>\n",
       "      <td>2</td>\n",
       "    </tr>\n",
       "    <tr>\n",
       "      <th>2</th>\n",
       "      <td>Natural product</td>\n",
       "      <td>2009</td>\n",
       "      <td>4</td>\n",
       "    </tr>\n",
       "    <tr>\n",
       "      <th>3</th>\n",
       "      <td>Peptide</td>\n",
       "      <td>2009</td>\n",
       "      <td>2</td>\n",
       "    </tr>\n",
       "    <tr>\n",
       "      <th>4</th>\n",
       "      <td>Synthetic organic</td>\n",
       "      <td>2009</td>\n",
       "      <td>20</td>\n",
       "    </tr>\n",
       "  </tbody>\n",
       "</table>\n",
       "</div>"
      ]
     },
     "execution_count": 8,
     "metadata": {},
     "output_type": "execute_result"
    }
   ],
   "execution_count": 8
  },
  {
   "metadata": {},
   "cell_type": "markdown",
   "source": "",
   "id": "a65d1ce3293f6182"
  },
  {
   "metadata": {
    "ExecuteTime": {
     "end_time": "2024-07-26T01:58:27.082491Z",
     "start_time": "2024-07-26T01:58:26.759235Z"
    }
   },
   "cell_type": "code",
   "source": [
    "title = 'FDA Approved Inhibitors from Guide to Pharmacology (2009)'\n",
    "plot_data.donut(year, title=title, savepath='/Users/tonyelin/Downloads/pie.png', color_palette='GnBu', legend_loc='out right center')"
   ],
   "id": "af8c6d05401e52e5",
   "outputs": [
    {
     "data": {
      "text/plain": [
       "<matplotlib.patches.Circle at 0x116e7e780>"
      ]
     },
     "execution_count": 9,
     "metadata": {},
     "output_type": "execute_result"
    }
   ],
   "execution_count": 9
  }
 ],
 "metadata": {
  "kernelspec": {
   "display_name": "Python 3",
   "language": "python",
   "name": "python3"
  },
  "language_info": {
   "codemirror_mode": {
    "name": "ipython",
    "version": 2
   },
   "file_extension": ".py",
   "mimetype": "text/x-python",
   "name": "python",
   "nbconvert_exporter": "python",
   "pygments_lexer": "ipython2",
   "version": "2.7.6"
  }
 },
 "nbformat": 4,
 "nbformat_minor": 5
}
